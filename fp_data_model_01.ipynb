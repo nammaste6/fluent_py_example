{
 "cells": [
  {
   "cell_type": "code",
   "execution_count": 8,
   "metadata": {},
   "outputs": [],
   "source": [
    "import collections\n",
    "\n",
    "Card = collections.namedtuple('Card', ['rank', 'suit'])\n",
    "\n",
    "class FrenchDeck :\n",
    "    ranks = [str(n) for n in range(2, 11)] + list('JQKA')\n",
    "    suits = 'spade diamond clubs hearts'.split()\n",
    "    \n",
    "    def __init__(self):\n",
    "        self._cards = [Card(rank, suit) for suit in self.suits\n",
    "                                        for rank in self.ranks]\n",
    "        \n",
    "    def __len__(self):\n",
    "        return len(self._cards)\n",
    "    \n",
    "    def __getitem__(self, position):\n",
    "        return self._cards[position]"
   ]
  },
  {
   "cell_type": "code",
   "execution_count": 9,
   "metadata": {},
   "outputs": [
    {
     "data": {
      "text/plain": [
       "Card(rank='7', suit='diamonds')"
      ]
     },
     "execution_count": 9,
     "metadata": {},
     "output_type": "execute_result"
    }
   ],
   "source": [
    "beer_card = Card('7', 'diamonds')\n",
    "beer_card"
   ]
  },
  {
   "cell_type": "code",
   "execution_count": 10,
   "metadata": {},
   "outputs": [
    {
     "data": {
      "text/plain": [
       "52"
      ]
     },
     "execution_count": 10,
     "metadata": {},
     "output_type": "execute_result"
    }
   ],
   "source": [
    "deck = FrenchDeck()\n",
    "len(deck)"
   ]
  },
  {
   "cell_type": "code",
   "execution_count": 11,
   "metadata": {},
   "outputs": [
    {
     "data": {
      "text/plain": [
       "[Card(rank='2', suit='spade'), Card(rank='3', suit='spade')]"
      ]
     },
     "execution_count": 11,
     "metadata": {},
     "output_type": "execute_result"
    }
   ],
   "source": [
    "deck[:2]"
   ]
  },
  {
   "cell_type": "code",
   "execution_count": 12,
   "metadata": {},
   "outputs": [
    {
     "data": {
      "text/plain": [
       "True"
      ]
     },
     "execution_count": 12,
     "metadata": {},
     "output_type": "execute_result"
    }
   ],
   "source": [
    "Card('Q', 'hearts') in deck"
   ]
  },
  {
   "cell_type": "code",
   "execution_count": 13,
   "metadata": {},
   "outputs": [
    {
     "data": {
      "text/plain": [
       "False"
      ]
     },
     "execution_count": 13,
     "metadata": {},
     "output_type": "execute_result"
    }
   ],
   "source": [
    "Card('z', 'hearts') in deck"
   ]
  },
  {
   "cell_type": "code",
   "execution_count": 15,
   "metadata": {},
   "outputs": [
    {
     "name": "stdout",
     "output_type": "stream",
     "text": [
      "Card(rank='2', suit='spade')\n",
      "Card(rank='3', suit='spade')\n",
      "Card(rank='4', suit='spade')\n",
      "Card(rank='5', suit='spade')\n",
      "Card(rank='6', suit='spade')\n",
      "Card(rank='7', suit='spade')\n",
      "Card(rank='8', suit='spade')\n",
      "Card(rank='9', suit='spade')\n",
      "Card(rank='10', suit='spade')\n",
      "Card(rank='J', suit='spade')\n",
      "Card(rank='Q', suit='spade')\n",
      "Card(rank='K', suit='spade')\n",
      "Card(rank='A', suit='spade')\n",
      "Card(rank='2', suit='diamond')\n",
      "Card(rank='3', suit='diamond')\n",
      "Card(rank='4', suit='diamond')\n",
      "Card(rank='5', suit='diamond')\n",
      "Card(rank='6', suit='diamond')\n",
      "Card(rank='7', suit='diamond')\n",
      "Card(rank='8', suit='diamond')\n",
      "Card(rank='9', suit='diamond')\n",
      "Card(rank='10', suit='diamond')\n",
      "Card(rank='J', suit='diamond')\n",
      "Card(rank='Q', suit='diamond')\n",
      "Card(rank='K', suit='diamond')\n",
      "Card(rank='A', suit='diamond')\n",
      "Card(rank='2', suit='clubs')\n",
      "Card(rank='3', suit='clubs')\n",
      "Card(rank='4', suit='clubs')\n",
      "Card(rank='5', suit='clubs')\n",
      "Card(rank='6', suit='clubs')\n",
      "Card(rank='7', suit='clubs')\n",
      "Card(rank='8', suit='clubs')\n",
      "Card(rank='9', suit='clubs')\n",
      "Card(rank='10', suit='clubs')\n",
      "Card(rank='J', suit='clubs')\n",
      "Card(rank='Q', suit='clubs')\n",
      "Card(rank='K', suit='clubs')\n",
      "Card(rank='A', suit='clubs')\n",
      "Card(rank='2', suit='hearts')\n",
      "Card(rank='3', suit='hearts')\n",
      "Card(rank='4', suit='hearts')\n",
      "Card(rank='5', suit='hearts')\n",
      "Card(rank='6', suit='hearts')\n",
      "Card(rank='7', suit='hearts')\n",
      "Card(rank='8', suit='hearts')\n",
      "Card(rank='9', suit='hearts')\n",
      "Card(rank='10', suit='hearts')\n",
      "Card(rank='J', suit='hearts')\n",
      "Card(rank='Q', suit='hearts')\n",
      "Card(rank='K', suit='hearts')\n",
      "Card(rank='A', suit='hearts')\n"
     ]
    }
   ],
   "source": [
    "for card in deck:\n",
    "    print(card)"
   ]
  },
  {
   "cell_type": "code",
   "execution_count": 16,
   "metadata": {},
   "outputs": [
    {
     "name": "stdout",
     "output_type": "stream",
     "text": [
      "Card(rank='A', suit='hearts')\n",
      "Card(rank='K', suit='hearts')\n",
      "Card(rank='Q', suit='hearts')\n",
      "Card(rank='J', suit='hearts')\n",
      "Card(rank='10', suit='hearts')\n",
      "Card(rank='9', suit='hearts')\n",
      "Card(rank='8', suit='hearts')\n",
      "Card(rank='7', suit='hearts')\n",
      "Card(rank='6', suit='hearts')\n",
      "Card(rank='5', suit='hearts')\n",
      "Card(rank='4', suit='hearts')\n",
      "Card(rank='3', suit='hearts')\n",
      "Card(rank='2', suit='hearts')\n",
      "Card(rank='A', suit='clubs')\n",
      "Card(rank='K', suit='clubs')\n",
      "Card(rank='Q', suit='clubs')\n",
      "Card(rank='J', suit='clubs')\n",
      "Card(rank='10', suit='clubs')\n",
      "Card(rank='9', suit='clubs')\n",
      "Card(rank='8', suit='clubs')\n",
      "Card(rank='7', suit='clubs')\n",
      "Card(rank='6', suit='clubs')\n",
      "Card(rank='5', suit='clubs')\n",
      "Card(rank='4', suit='clubs')\n",
      "Card(rank='3', suit='clubs')\n",
      "Card(rank='2', suit='clubs')\n",
      "Card(rank='A', suit='diamond')\n",
      "Card(rank='K', suit='diamond')\n",
      "Card(rank='Q', suit='diamond')\n",
      "Card(rank='J', suit='diamond')\n",
      "Card(rank='10', suit='diamond')\n",
      "Card(rank='9', suit='diamond')\n",
      "Card(rank='8', suit='diamond')\n",
      "Card(rank='7', suit='diamond')\n",
      "Card(rank='6', suit='diamond')\n",
      "Card(rank='5', suit='diamond')\n",
      "Card(rank='4', suit='diamond')\n",
      "Card(rank='3', suit='diamond')\n",
      "Card(rank='2', suit='diamond')\n",
      "Card(rank='A', suit='spade')\n",
      "Card(rank='K', suit='spade')\n",
      "Card(rank='Q', suit='spade')\n",
      "Card(rank='J', suit='spade')\n",
      "Card(rank='10', suit='spade')\n",
      "Card(rank='9', suit='spade')\n",
      "Card(rank='8', suit='spade')\n",
      "Card(rank='7', suit='spade')\n",
      "Card(rank='6', suit='spade')\n",
      "Card(rank='5', suit='spade')\n",
      "Card(rank='4', suit='spade')\n",
      "Card(rank='3', suit='spade')\n",
      "Card(rank='2', suit='spade')\n"
     ]
    }
   ],
   "source": [
    "for card in reversed(deck):\n",
    "    print(card)"
   ]
  },
  {
   "cell_type": "code",
   "execution_count": 17,
   "metadata": {},
   "outputs": [
    {
     "name": "stdout",
     "output_type": "stream",
     "text": [
      "1 Card(rank='2', suit='spade')\n",
      "2 Card(rank='3', suit='spade')\n",
      "3 Card(rank='4', suit='spade')\n",
      "4 Card(rank='5', suit='spade')\n",
      "5 Card(rank='6', suit='spade')\n",
      "6 Card(rank='7', suit='spade')\n",
      "7 Card(rank='8', suit='spade')\n",
      "8 Card(rank='9', suit='spade')\n",
      "9 Card(rank='10', suit='spade')\n",
      "10 Card(rank='J', suit='spade')\n",
      "11 Card(rank='Q', suit='spade')\n",
      "12 Card(rank='K', suit='spade')\n",
      "13 Card(rank='A', suit='spade')\n",
      "14 Card(rank='2', suit='diamond')\n",
      "15 Card(rank='3', suit='diamond')\n",
      "16 Card(rank='4', suit='diamond')\n",
      "17 Card(rank='5', suit='diamond')\n",
      "18 Card(rank='6', suit='diamond')\n",
      "19 Card(rank='7', suit='diamond')\n",
      "20 Card(rank='8', suit='diamond')\n",
      "21 Card(rank='9', suit='diamond')\n",
      "22 Card(rank='10', suit='diamond')\n",
      "23 Card(rank='J', suit='diamond')\n",
      "24 Card(rank='Q', suit='diamond')\n",
      "25 Card(rank='K', suit='diamond')\n",
      "26 Card(rank='A', suit='diamond')\n",
      "27 Card(rank='2', suit='clubs')\n",
      "28 Card(rank='3', suit='clubs')\n",
      "29 Card(rank='4', suit='clubs')\n",
      "30 Card(rank='5', suit='clubs')\n",
      "31 Card(rank='6', suit='clubs')\n",
      "32 Card(rank='7', suit='clubs')\n",
      "33 Card(rank='8', suit='clubs')\n",
      "34 Card(rank='9', suit='clubs')\n",
      "35 Card(rank='10', suit='clubs')\n",
      "36 Card(rank='J', suit='clubs')\n",
      "37 Card(rank='Q', suit='clubs')\n",
      "38 Card(rank='K', suit='clubs')\n",
      "39 Card(rank='A', suit='clubs')\n",
      "40 Card(rank='2', suit='hearts')\n",
      "41 Card(rank='3', suit='hearts')\n",
      "42 Card(rank='4', suit='hearts')\n",
      "43 Card(rank='5', suit='hearts')\n",
      "44 Card(rank='6', suit='hearts')\n",
      "45 Card(rank='7', suit='hearts')\n",
      "46 Card(rank='8', suit='hearts')\n",
      "47 Card(rank='9', suit='hearts')\n",
      "48 Card(rank='10', suit='hearts')\n",
      "49 Card(rank='J', suit='hearts')\n",
      "50 Card(rank='Q', suit='hearts')\n",
      "51 Card(rank='K', suit='hearts')\n",
      "52 Card(rank='A', suit='hearts')\n"
     ]
    }
   ],
   "source": [
    "for n, card in enumerate(deck, 1):\n",
    "    print(n, card)"
   ]
  },
  {
   "cell_type": "code",
   "execution_count": 38,
   "metadata": {},
   "outputs": [
    {
     "data": {
      "text/plain": [
       "48"
      ]
     },
     "execution_count": 38,
     "metadata": {},
     "output_type": "execute_result"
    }
   ],
   "source": [
    "suit_values = dict(spade = 3, hearts = 2, diamond= 1, clubs = 0)\n",
    "def spades_high(card):\n",
    "    rank_value = FrenchDeck.ranks.index(card.rank)\n",
    "    return rank_value * len(suit_values) + suit_values[card.suit]\n",
    "\n",
    "spades_high(Card('A', 'clubs'))"
   ]
  },
  {
   "cell_type": "code",
   "execution_count": 39,
   "metadata": {},
   "outputs": [
    {
     "data": {
      "text/plain": [
       "51"
      ]
     },
     "execution_count": 39,
     "metadata": {},
     "output_type": "execute_result"
    }
   ],
   "source": [
    "spades_high(Card('A', 'spade'))"
   ]
  },
  {
   "cell_type": "code",
   "execution_count": 40,
   "metadata": {},
   "outputs": [
    {
     "name": "stdout",
     "output_type": "stream",
     "text": [
      "Card(rank='2', suit='clubs')\n",
      "Card(rank='2', suit='diamond')\n",
      "Card(rank='2', suit='hearts')\n",
      "Card(rank='2', suit='spade')\n",
      "Card(rank='3', suit='clubs')\n",
      "Card(rank='3', suit='diamond')\n",
      "Card(rank='3', suit='hearts')\n",
      "Card(rank='3', suit='spade')\n",
      "Card(rank='4', suit='clubs')\n",
      "Card(rank='4', suit='diamond')\n",
      "Card(rank='4', suit='hearts')\n",
      "Card(rank='4', suit='spade')\n",
      "Card(rank='5', suit='clubs')\n",
      "Card(rank='5', suit='diamond')\n",
      "Card(rank='5', suit='hearts')\n",
      "Card(rank='5', suit='spade')\n",
      "Card(rank='6', suit='clubs')\n",
      "Card(rank='6', suit='diamond')\n",
      "Card(rank='6', suit='hearts')\n",
      "Card(rank='6', suit='spade')\n",
      "Card(rank='7', suit='clubs')\n",
      "Card(rank='7', suit='diamond')\n",
      "Card(rank='7', suit='hearts')\n",
      "Card(rank='7', suit='spade')\n",
      "Card(rank='8', suit='clubs')\n",
      "Card(rank='8', suit='diamond')\n",
      "Card(rank='8', suit='hearts')\n",
      "Card(rank='8', suit='spade')\n",
      "Card(rank='9', suit='clubs')\n",
      "Card(rank='9', suit='diamond')\n",
      "Card(rank='9', suit='hearts')\n",
      "Card(rank='9', suit='spade')\n",
      "Card(rank='10', suit='clubs')\n",
      "Card(rank='10', suit='diamond')\n",
      "Card(rank='10', suit='hearts')\n",
      "Card(rank='10', suit='spade')\n",
      "Card(rank='J', suit='clubs')\n",
      "Card(rank='J', suit='diamond')\n",
      "Card(rank='J', suit='hearts')\n",
      "Card(rank='J', suit='spade')\n",
      "Card(rank='Q', suit='clubs')\n",
      "Card(rank='Q', suit='diamond')\n",
      "Card(rank='Q', suit='hearts')\n",
      "Card(rank='Q', suit='spade')\n",
      "Card(rank='K', suit='clubs')\n",
      "Card(rank='K', suit='diamond')\n",
      "Card(rank='K', suit='hearts')\n",
      "Card(rank='K', suit='spade')\n",
      "Card(rank='A', suit='clubs')\n",
      "Card(rank='A', suit='diamond')\n",
      "Card(rank='A', suit='hearts')\n",
      "Card(rank='A', suit='spade')\n"
     ]
    }
   ],
   "source": [
    "for card in sorted(deck, key = spades_high):\n",
    "    print(card)"
   ]
  },
  {
   "cell_type": "code",
   "execution_count": null,
   "metadata": {
    "collapsed": true
   },
   "outputs": [],
   "source": []
  }
 ],
 "metadata": {
  "kernelspec": {
   "display_name": "Python 3",
   "language": "python",
   "name": "python3"
  },
  "language_info": {
   "codemirror_mode": {
    "name": "ipython",
    "version": 3
   },
   "file_extension": ".py",
   "mimetype": "text/x-python",
   "name": "python",
   "nbconvert_exporter": "python",
   "pygments_lexer": "ipython3",
   "version": "3.6.2"
  }
 },
 "nbformat": 4,
 "nbformat_minor": 2
}
